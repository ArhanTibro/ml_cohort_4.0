{
 "cells": [
  {
   "cell_type": "code",
   "execution_count": 1,
   "metadata": {},
   "outputs": [
    {
     "name": "stdout",
     "output_type": "stream",
     "text": [
      "given matrix : \n",
      "[[1 2 3 4]\n",
      " [4 5 6 7]]\n",
      "transepose matrix : \n",
      "[[1 4]\n",
      " [2 5]\n",
      " [3 6]\n",
      " [4 7]]\n"
     ]
    }
   ],
   "source": [
    "import numpy as np\n",
    "#transepose\n",
    "\"\"\"\n",
    "transpose of a matrix means to transform the rows of a matrix to columns and\n",
    "transform of the columns into rowa . for example a transpose matrix of an 2x3 matrix \n",
    "will form into a 3x2 matrix \n",
    "\"\"\"\n",
    "\n",
    "matrix=np.array([[1,2,3,4],[4,5,6,7]])\n",
    "print('given matrix : ')\n",
    "print(matrix)\n",
    "print('transepose matrix : ')\n",
    "transposed=matrix.transpose()\n",
    "print(transposed)"
   ]
  },
  {
   "cell_type": "code",
   "execution_count": 4,
   "metadata": {},
   "outputs": [
    {
     "data": {
      "text/plain": [
       "array([[ 8, 10, 12],\n",
       "       [14, 16, 18]])"
      ]
     },
     "execution_count": 4,
     "metadata": {},
     "output_type": "execute_result"
    }
   ],
   "source": [
    "#addition \n",
    "\"\"\"\n",
    "addition of two matrix(suppose a and b matrix ) means addition of every \n",
    "a(i,j) and b(i,j) of a and b where i==j\n",
    "\"\"\"\n",
    "a=np.array([[1,2,3],[4,5,6]])\n",
    "b=np.array([[7,8,9],[10,11,12]])\n",
    "res=a+b\n",
    "res"
   ]
  }
 ],
 "metadata": {
  "kernelspec": {
   "display_name": "Python 3",
   "language": "python",
   "name": "python3"
  },
  "language_info": {
   "codemirror_mode": {
    "name": "ipython",
    "version": 3
   },
   "file_extension": ".py",
   "mimetype": "text/x-python",
   "name": "python",
   "nbconvert_exporter": "python",
   "pygments_lexer": "ipython3",
   "version": "3.12.7"
  }
 },
 "nbformat": 4,
 "nbformat_minor": 2
}
